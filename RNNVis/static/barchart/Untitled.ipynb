{
 "cells": [
  {
   "cell_type": "code",
   "execution_count": 1,
   "metadata": {},
   "outputs": [],
   "source": [
    "import pandas as pd\n",
    "import nltk\n",
    "import string\n",
    "from collections import Counter, OrderedDict\n",
    "from nltk.corpus import stopwords\n",
    "stopwords = stopwords.words('english')"
   ]
  },
  {
   "cell_type": "code",
   "execution_count": 11,
   "metadata": {},
   "outputs": [
    {
     "data": {
      "text/html": [
       "<div>\n",
       "<style scoped>\n",
       "    .dataframe tbody tr th:only-of-type {\n",
       "        vertical-align: middle;\n",
       "    }\n",
       "\n",
       "    .dataframe tbody tr th {\n",
       "        vertical-align: top;\n",
       "    }\n",
       "\n",
       "    .dataframe thead th {\n",
       "        text-align: right;\n",
       "    }\n",
       "</style>\n",
       "<table border=\"1\" class=\"dataframe\">\n",
       "  <thead>\n",
       "    <tr style=\"text-align: right;\">\n",
       "      <th></th>\n",
       "      <th>cleaned_hm</th>\n",
       "      <th>ground_truth_category</th>\n",
       "      <th>tokens</th>\n",
       "    </tr>\n",
       "  </thead>\n",
       "  <tbody>\n",
       "    <tr>\n",
       "      <th>606</th>\n",
       "      <td>I WENT TO MOVIE</td>\n",
       "      <td>leisure</td>\n",
       "      <td>[i, went, to, movie]</td>\n",
       "    </tr>\n",
       "  </tbody>\n",
       "</table>\n",
       "</div>"
      ],
      "text/plain": [
       "          cleaned_hm ground_truth_category                tokens\n",
       "606  I WENT TO MOVIE               leisure  [i, went, to, movie]"
      ]
     },
     "execution_count": 11,
     "metadata": {},
     "output_type": "execute_result"
    }
   ],
   "source": [
    "all_df[all_df['cleaned_hm']=='I WENT TO MOVIE']"
   ]
  },
  {
   "cell_type": "code",
   "execution_count": 2,
   "metadata": {},
   "outputs": [],
   "source": [
    "all_df = pd.read_csv(\"cleaned.csv\")\n",
    "all_df.drop(columns=\"Unnamed: 0\", inplace=True)\n",
    "all_df.drop_duplicates(inplace=True)"
   ]
  },
  {
   "cell_type": "code",
   "execution_count": 3,
   "metadata": {},
   "outputs": [
    {
     "data": {
      "text/plain": [
       "array(['bonding', 'leisure', 'affection', 'enjoy_the_moment',\n",
       "       'achievement', 'nature', 'exercise'], dtype=object)"
      ]
     },
     "execution_count": 3,
     "metadata": {},
     "output_type": "execute_result"
    }
   ],
   "source": [
    "all_df.ground_truth_category.unique()"
   ]
  },
  {
   "cell_type": "code",
   "execution_count": 4,
   "metadata": {},
   "outputs": [],
   "source": [
    "all_df['cleaned_hm'] = all_df.cleaned_hm.apply(lambda sentence: sentence.strip())\n",
    "all_df['tokens'] = all_df.cleaned_hm.apply(lambda sentence: sentence.lower().translate(str.maketrans('', '', string.punctuation)).split())\n"
   ]
  },
  {
   "cell_type": "code",
   "execution_count": 5,
   "metadata": {},
   "outputs": [
    {
     "data": {
      "text/plain": [
       "0        [we, had, a, serious, talk, with, some, friend...\n",
       "1                              [i, meditated, last, night]\n",
       "2        [my, grandmother, start, to, walk, from, the, ...\n",
       "3        [i, picked, my, daughter, up, from, the, airpo...\n",
       "4        [when, i, received, flowers, from, my, best, f...\n",
       "                               ...                        \n",
       "14118      [this, morning, i, took, a, nice, warm, shower]\n",
       "14121    [learning, how, to, better, hunt, for, hits, o...\n",
       "14122    [i, woke, up, in, the, middle, of, the, night,...\n",
       "14123    [yesterday, my, relations, came, to, my, house...\n",
       "14124        [cuddling, with, my, girlfriend, last, night]\n",
       "Name: tokens, Length: 12713, dtype: object"
      ]
     },
     "execution_count": 5,
     "metadata": {},
     "output_type": "execute_result"
    }
   ],
   "source": [
    "all_df.tokens"
   ]
  },
  {
   "cell_type": "code",
   "execution_count": 28,
   "metadata": {},
   "outputs": [],
   "source": [
    "def process_data(category):\n",
    "    df = all_df[all_df.ground_truth_category == category]\n",
    "    corpus = []\n",
    "    for sentence_tokens in df.tokens:\n",
    "        corpus += [w for w in sentence_tokens if w not in stopwords]\n",
    "    c = Counter(corpus)\n",
    "    c = OrderedDict(c.most_common(20))\n",
    "    eg = []\n",
    "    counter_eg = []\n",
    "    words = list(c.keys())\n",
    "    counts = list(c.values())\n",
    "    for word in words:\n",
    "        data = all_df.sample(frac = 1)\n",
    "        mask1 = all_df.cleaned_hm.apply(lambda x: len(x)<100)\n",
    "        data = data[mask1]\n",
    "        mask2 = data.tokens.apply(lambda x: word in x)\n",
    "        eg_df = data[mask2].sample(frac=1)\n",
    "        counter_eg_df = eg_df[eg_df.ground_truth_category != category ]\n",
    "        eg_df = eg_df[eg_df.ground_truth_category == category]\n",
    "        eg.append(\"\\n\".join(eg_df.cleaned_hm[:10]))\n",
    "        counter_txt = counter_eg_df.cleaned_hm[:5].tolist()\n",
    "        counter_label = counter_eg_df.ground_truth_category[:5].tolist()\n",
    "        counter_eg.append(\"\\n\".join([counter_txt[i] + \"|\" + counter_label[i] for i in range(min(5, len(counter_txt)))]))\n",
    "    notes = []\n",
    "    for i in range(20):\n",
    "        notes.append(\"\\'\" + words[i] + \"\\' is the top \" + str(i+1) + \" frequently used word for \" + category)\n",
    "    out_df = pd.DataFrame({\"word\":words, \"size\":counts, \"eg\":eg, \"counter_eg\":counter_eg, \"note\":notes}) \n",
    "    out_df.to_csv(category+\".csv\", index=False)\n",
    "    "
   ]
  },
  {
   "cell_type": "code",
   "execution_count": 29,
   "metadata": {},
   "outputs": [
    {
     "name": "stderr",
     "output_type": "stream",
     "text": [
      "<ipython-input-28-93c3716f2cdd>:15: UserWarning: Boolean Series key will be reindexed to match DataFrame index.\n",
      "  data = data[mask1]\n"
     ]
    }
   ],
   "source": [
    "for c in all_df.ground_truth_category.unique():\n",
    "    process_data(c)"
   ]
  },
  {
   "cell_type": "code",
   "execution_count": 107,
   "metadata": {},
   "outputs": [],
   "source": [
    "\n",
    "ddd = pd.read_csv(\"bonding.csv\")"
   ]
  },
  {
   "cell_type": "code",
   "execution_count": 108,
   "metadata": {},
   "outputs": [
    {
     "data": {
      "text/plain": [
       "0     My friend came over and we both had a great ti...\n",
       "1     My dearest friend's son graduated from High Sc...\n",
       "2     Went to a birthday night out with some close f...\n",
       "3     I was happy when my partner joked around with ...\n",
       "4     I met my school friend in a movie theater by c...\n",
       "5     My friend is an entertainer who recently got b...\n",
       "6     This afternoon, I had a conversation with an o...\n",
       "7     I planned a trip to California to visit my bes...\n",
       "8     I was happy when my coworkers surprised me wit...\n",
       "9     When I was able to connect with a school I enj...\n",
       "10    MY BEST FRIEND MARRIAGE PARTY\\nMY BEST FRIEND ...\n",
       "11    Last week I went to a drinks party I had a per...\n",
       "12    I drank beer with some good friends.\\nA guy I ...\n",
       "13    Decided to go out with my friends despite bein...\n",
       "14    I met my former professor and some former coll...\n",
       "15    A few weeks ago I made new friends at the loca...\n",
       "16    I ATTENDED MY FRIEND SCHOOL ANNUAL DAY FUNCTIO...\n",
       "17    While cleaning and organizing my kitchen, I no...\n",
       "18    My best friend and I scored two  free tickets ...\n",
       "19    I met with my old freinds at village and old p...\n",
       "Name: eg, dtype: object"
      ]
     },
     "execution_count": 108,
     "metadata": {},
     "output_type": "execute_result"
    }
   ],
   "source": [
    "ddd.eg"
   ]
  },
  {
   "cell_type": "code",
   "execution_count": 9,
   "metadata": {},
   "outputs": [
    {
     "data": {
      "text/plain": [
       "['bonding',\n",
       " 'leisure',\n",
       " 'affection',\n",
       " 'enjoy_the_moment',\n",
       " 'achievement',\n",
       " 'nature',\n",
       " 'exercise']"
      ]
     },
     "execution_count": 9,
     "metadata": {},
     "output_type": "execute_result"
    }
   ],
   "source": [
    "[] + ['bonding', 'leisure', 'affection', 'enjoy_the_moment', 'achievement', 'nature', 'exercise']"
   ]
  },
  {
   "cell_type": "code",
   "execution_count": 10,
   "metadata": {},
   "outputs": [
    {
     "ename": "AttributeError",
     "evalue": "'list' object has no attribute 'lower'",
     "output_type": "error",
     "traceback": [
      "\u001b[0;31m---------------------------------------------------------------------------\u001b[0m",
      "\u001b[0;31mAttributeError\u001b[0m                            Traceback (most recent call last)",
      "\u001b[0;32m<ipython-input-10-9e83b51b4641>\u001b[0m in \u001b[0;36m<module>\u001b[0;34m\u001b[0m\n\u001b[0;32m----> 1\u001b[0;31m \u001b[0;34m\"this is a SSS\"\u001b[0m\u001b[0;34m.\u001b[0m\u001b[0msplit\u001b[0m\u001b[0;34m(\u001b[0m\u001b[0;34m)\u001b[0m\u001b[0;34m.\u001b[0m\u001b[0mlower\u001b[0m\u001b[0;34m(\u001b[0m\u001b[0;34m)\u001b[0m\u001b[0;34m\u001b[0m\u001b[0;34m\u001b[0m\u001b[0m\n\u001b[0m",
      "\u001b[0;31mAttributeError\u001b[0m: 'list' object has no attribute 'lower'"
     ]
    }
   ],
   "source": [
    "\"this is a SSS\".split().lower()"
   ]
  },
  {
   "cell_type": "code",
   "execution_count": 140,
   "metadata": {},
   "outputs": [
    {
     "data": {
      "text/plain": [
       "122"
      ]
     },
     "execution_count": 140,
     "metadata": {},
     "output_type": "execute_result"
    }
   ],
   "source": [
    "len(\"I went to church during Holy Week several times and received Holy Sacraments. It was very special and made me very happy. \")"
   ]
  },
  {
   "cell_type": "code",
   "execution_count": 148,
   "metadata": {},
   "outputs": [
    {
     "data": {
      "text/plain": [
       "'waiting my result, it was just momentum movement,'"
      ]
     },
     "execution_count": 148,
     "metadata": {},
     "output_type": "execute_result"
    }
   ],
   "source": [
    "\"waiting my result, it was just momentum movement,\\n\".strip()"
   ]
  },
  {
   "cell_type": "code",
   "execution_count": null,
   "metadata": {},
   "outputs": [],
   "source": []
  }
 ],
 "metadata": {
  "kernelspec": {
   "display_name": "Python 3",
   "language": "python",
   "name": "python3"
  },
  "language_info": {
   "codemirror_mode": {
    "name": "ipython",
    "version": 3
   },
   "file_extension": ".py",
   "mimetype": "text/x-python",
   "name": "python",
   "nbconvert_exporter": "python",
   "pygments_lexer": "ipython3",
   "version": "3.8.5"
  }
 },
 "nbformat": 4,
 "nbformat_minor": 4
}
